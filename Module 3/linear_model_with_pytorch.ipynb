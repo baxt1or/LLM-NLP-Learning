{
 "cells": [
  {
   "cell_type": "code",
   "execution_count": 1,
   "metadata": {},
   "outputs": [],
   "source": [
    "import numpy as np\n",
    "import pandas as pd \n",
    "import torch \n",
    "import torch.nn as nn "
   ]
  },
  {
   "cell_type": "markdown",
   "metadata": {},
   "source": [
    "## Linear Regression with Pytorch"
   ]
  },
  {
   "cell_type": "code",
   "execution_count": 16,
   "metadata": {},
   "outputs": [
    {
     "name": "stdout",
     "output_type": "stream",
     "text": [
      "Predictions: 0.0\n"
     ]
    }
   ],
   "source": [
    "class LinearRegression(nn.Module):\n",
    "    def __init__(self, n_features):\n",
    "        super(LinearRegression, self).__init__()\n",
    "        self.linear = nn.Linear(n_features, 1)\n",
    "    \n",
    "    def forward(self, x):\n",
    "        return self.linear(x)\n",
    "\n",
    "\n",
    "\n",
    "X = np.array([[1, 2, 3], [4, 5, 6], [7, 8, 9]])\n",
    "y = np.array([6, 15, 24])\n",
    "\n",
    "X = torch.tensor(X, dtype=torch.float)\n",
    "y = torch.tensor(y , dtype=torch.float)\n",
    "\n",
    "n_features = X.shape[1]\n",
    "\n",
    "model = LinearRegression(n_features=n_features)\n",
    "\n",
    "\n",
    "critarion = nn.MSELoss()\n",
    "optimizer = torch.optim.SGD(model.parameters(), lr=1e-9)\n",
    "\n",
    "epochs = 200000\n",
    "\n",
    "for epoch in range(epochs):\n",
    "\n",
    "    outputs = model(X)\n",
    "    loss = critarion(outputs, y.view(-1, 1))\n",
    "\n",
    "    optimizer.zero_grad()\n",
    "    loss.backward()\n",
    "    optimizer.step()\n",
    "\n",
    "\n",
    "x_test = torch.tensor(np.array([2000, 4000, 8000]), dtype=torch.float32)\n",
    "y_pred = model(X)\n",
    "y_pred = y_pred.detach().numpy()\n",
    "\n",
    "print(\"Predictions:\",np.mean(np.array([6, 15, 24]) == y_pred))"
   ]
  }
 ],
 "metadata": {
  "kernelspec": {
   "display_name": "Python 3",
   "language": "python",
   "name": "python3"
  },
  "language_info": {
   "codemirror_mode": {
    "name": "ipython",
    "version": 3
   },
   "file_extension": ".py",
   "mimetype": "text/x-python",
   "name": "python",
   "nbconvert_exporter": "python",
   "pygments_lexer": "ipython3",
   "version": "3.13.1"
  }
 },
 "nbformat": 4,
 "nbformat_minor": 2
}
