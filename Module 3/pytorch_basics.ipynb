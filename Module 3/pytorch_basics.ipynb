{
 "cells": [
  {
   "cell_type": "code",
   "execution_count": 1,
   "metadata": {},
   "outputs": [
    {
     "name": "stdout",
     "output_type": "stream",
     "text": [
      "2.6.0\n"
     ]
    }
   ],
   "source": [
    "import torch\n",
    "\n",
    "print(torch.__version__)"
   ]
  },
  {
   "cell_type": "code",
   "execution_count": 10,
   "metadata": {},
   "outputs": [
    {
     "name": "stdout",
     "output_type": "stream",
     "text": [
      "tensor([0, 0], dtype=torch.int32)\n",
      "tensor([[0., 0., 0.],\n",
      "        [0., 0., 0.],\n",
      "        [0., 0., 0.],\n",
      "        [0., 0., 0.],\n",
      "        [0., 0., 0.]], dtype=torch.float16)\n"
     ]
    }
   ],
   "source": [
    "# Creating the empty torch or tensor\n",
    "x = torch.empty(2,dtype=torch.int)\n",
    "print(x)\n",
    "\n",
    "# Two dimentional Tensor\n",
    "y = torch.empty(size=(5, 3), dtype=torch.float16)\n",
    "print(y)"
   ]
  },
  {
   "cell_type": "code",
   "execution_count": 37,
   "metadata": {},
   "outputs": [
    {
     "name": "stdout",
     "output_type": "stream",
     "text": [
      "tensor([11,  4, 23])\n",
      "tensor([35,  9, 46])\n",
      "tensor([-13,  -1,   0])\n",
      "tensor([[1.0292, 0.3589, 0.6312],\n",
      "        [0.5949, 0.1991, 0.5598],\n",
      "        [0.7166, 0.1973, 0.0475]])\n",
      "tensor([[1.1362, 0.6210, 1.1084],\n",
      "        [1.2096, 0.5912, 0.5903],\n",
      "        [0.9710, 0.2413, 0.7760]])\n"
     ]
    }
   ],
   "source": [
    "a = torch.tensor([11, 4, 23])\n",
    "b = torch.tensor([24, 5, 23])\n",
    "\n",
    "print(a)\n",
    "print(a + b)\n",
    "print(a - b)\n",
    "\n",
    "\n",
    "A = torch.rand(3, 3)\n",
    "B = torch.rand(3,3)\n",
    "\n",
    "print(A.mm(B))\n",
    "\n",
    "A.add_(B)\n",
    "\n",
    "print(A)"
   ]
  }
 ],
 "metadata": {
  "kernelspec": {
   "display_name": "Python 3",
   "language": "python",
   "name": "python3"
  },
  "language_info": {
   "codemirror_mode": {
    "name": "ipython",
    "version": 3
   },
   "file_extension": ".py",
   "mimetype": "text/x-python",
   "name": "python",
   "nbconvert_exporter": "python",
   "pygments_lexer": "ipython3",
   "version": "3.13.1"
  }
 },
 "nbformat": 4,
 "nbformat_minor": 2
}
