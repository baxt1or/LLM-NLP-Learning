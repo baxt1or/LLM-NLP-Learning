{
 "cells": [
  {
   "cell_type": "code",
   "execution_count": 1,
   "metadata": {},
   "outputs": [],
   "source": [
    "import re"
   ]
  },
  {
   "cell_type": "code",
   "execution_count": 18,
   "metadata": {},
   "outputs": [
    {
     "name": "stdout",
     "output_type": "stream",
     "text": [
      "Vocabulary: {'love': 3, 'programming': 4, 'in': 1, 'python': 5, 'is': 2, 'fun': 0}\n"
     ]
    }
   ],
   "source": [
    "from sklearn.feature_extraction.text import CountVectorizer\n",
    "from collections import Counter\n",
    "\n",
    "# Documents\n",
    "documents = [\n",
    "    \"I love programming\",\n",
    "    \"Programming in Python is fun\",\n",
    "    \"I love Python programming\"\n",
    "]\n",
    "\n",
    "# Initialize CountVectorizer\n",
    "vectorizer = CountVectorizer()\n",
    "\n",
    "# Fit and transform the documents\n",
    "X = vectorizer.fit_transform(documents)\n",
    "words = \" \".join(documents).lower().split(\" \")\n",
    "# Vocabulary\n",
    "print(\"Vocabulary:\", vectorizer.vocabulary_)"
   ]
  },
  {
   "cell_type": "code",
   "execution_count": 21,
   "metadata": {},
   "outputs": [],
   "source": [
    "from sklearn.feature_extraction.text import ENGLISH_STOP_WORDS\n",
    "\n",
    "stopwords = ENGLISH_STOP_WORDS"
   ]
  },
  {
   "cell_type": "code",
   "execution_count": 47,
   "metadata": {},
   "outputs": [
    {
     "name": "stdout",
     "output_type": "stream",
     "text": [
      "['fun', 'i', 'in', 'is', 'love', 'programming', 'python']\n",
      "[1, 0, 1, 0, 1, 0]\n",
      "['i', 'love', 'python']\n"
     ]
    }
   ],
   "source": [
    "words = sorted(list(set(\" \".join(documents).lower().split(\" \"))))\n",
    "vocab = {i: word for word, i in enumerate(words) if word not in stopwords}\n",
    "\n",
    "\n",
    "print(list(vocab.keys()))\n",
    "vocabb = ['fun', 'i', 'in', 'is', 'love', 'programming', 'python']\n",
    "\n",
    "def common_words(words, vocab):\n",
    "    res = []\n",
    "  \n",
    "    for word in words:\n",
    "        if word in vocab:\n",
    "            res.append(1)\n",
    "        res.append(0)\n",
    "    return res\n",
    "\n",
    "            \n",
    "print(common_words([\"i\", \"love\", \"python\"], vocabb))\n",
    "print(sorted(\" \".join([\"i\", \"love\", \"python\"]).split(\" \")))\n"
   ]
  }
 ],
 "metadata": {
  "kernelspec": {
   "display_name": "Python 3",
   "language": "python",
   "name": "python3"
  },
  "language_info": {
   "codemirror_mode": {
    "name": "ipython",
    "version": 3
   },
   "file_extension": ".py",
   "mimetype": "text/x-python",
   "name": "python",
   "nbconvert_exporter": "python",
   "pygments_lexer": "ipython3",
   "version": "3.12.4"
  }
 },
 "nbformat": 4,
 "nbformat_minor": 2
}
