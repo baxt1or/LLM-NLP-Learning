{
 "cells": [
  {
   "cell_type": "code",
   "execution_count": 1,
   "metadata": {},
   "outputs": [],
   "source": [
    "import re"
   ]
  },
  {
   "cell_type": "code",
   "execution_count": 4,
   "metadata": {},
   "outputs": [
    {
     "name": "stdout",
     "output_type": "stream",
     "text": [
      "Vocabulary: {'love': 2, 'programming': 3, 'is': 1, 'fun': 0, 'python': 4}\n",
      "Dense Matrix:\n",
      " [[0 0 3 2 0]\n",
      " [1 1 1 2 1]]\n",
      "['i', 'love', 'programming.', 'i', 'love', 'love', 'programming!', 'programming', 'is', 'fun.', 'i', 'love', 'python', 'programming.']\n"
     ]
    }
   ],
   "source": [
    "from sklearn.feature_extraction.text import CountVectorizer\n",
    "\n",
    "# Documents\n",
    "documents = [\n",
    "    \"I love programming. I love love programming!\",  # Repeated words\n",
    "    \"Programming is fun. I love Python programming.\"\n",
    "]\n",
    "\n",
    "# Initialize CountVectorizer\n",
    "vectorizer = CountVectorizer()\n",
    "\n",
    "# Fit and transform the documents\n",
    "X = vectorizer.fit_transform(documents)\n",
    "\n",
    "# Vocabulary\n",
    "print(\"Vocabulary:\", vectorizer.vocabulary_)\n",
    "\n",
    "# Dense Matrix\n",
    "print(\"Dense Matrix:\\n\", X.toarray())\n",
    "print(\" \".join(documents).lower().split(\" \"))\n"
   ]
  }
 ],
 "metadata": {
  "kernelspec": {
   "display_name": "Python 3",
   "language": "python",
   "name": "python3"
  },
  "language_info": {
   "codemirror_mode": {
    "name": "ipython",
    "version": 3
   },
   "file_extension": ".py",
   "mimetype": "text/x-python",
   "name": "python",
   "nbconvert_exporter": "python",
   "pygments_lexer": "ipython3",
   "version": "3.12.4"
  }
 },
 "nbformat": 4,
 "nbformat_minor": 2
}
