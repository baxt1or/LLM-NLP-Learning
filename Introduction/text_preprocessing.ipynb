{
 "cells": [
  {
   "cell_type": "code",
   "execution_count": 1,
   "metadata": {},
   "outputs": [],
   "source": [
    "import re \n",
    "import string"
   ]
  },
  {
   "cell_type": "code",
   "execution_count": 2,
   "metadata": {},
   "outputs": [
    {
     "data": {
      "text/plain": [
       "'the quick brown fox jumps over 13 lazy dogs midnight!'"
      ]
     },
     "execution_count": 2,
     "metadata": {},
     "output_type": "execute_result"
    }
   ],
   "source": [
    "# Basic Converting all to Lower case\n",
    "sentence = \"The Quick Brown Fox Jumps Over 13 Lazy Dogs Midnight!\"\n",
    "sentence = str(sentence).lower()\n",
    "\n",
    "sentence"
   ]
  },
  {
   "cell_type": "code",
   "execution_count": 24,
   "metadata": {},
   "outputs": [
    {
     "data": {
      "text/plain": [
       "\"The quick, brown fox—bold and daring—jumps over 13 lazy dogs! Why? Well, exactly 11:59 p.m., it decided: 'Adventure awaits... let’s go!'\""
      ]
     },
     "execution_count": 24,
     "metadata": {},
     "output_type": "execute_result"
    }
   ],
   "source": [
    "# Removing punctuations\n",
    "punctuations = string.punctuation\n",
    "\n",
    "sentence= \"The quick, brown fox—bold and daring—jumps over 13 lazy dogs! Why? Well, @ exactly 11:59 p.m., it decided: 'Adventure awaits... let’s go!'\"\n",
    "\n",
    "sentence = \" \".join([word for word in sentence.split(\" \") if word not in list(punctuations)])\n",
    "\n",
    "sentence"
   ]
  },
  {
   "cell_type": "code",
   "execution_count": 26,
   "metadata": {},
   "outputs": [
    {
     "data": {
      "text/plain": [
       "'The quick  brown fox bold and daring jumps over    lazy dogs  Why  Well  exactly       p m   it decided   Adventure awaits    let s go  '"
      ]
     },
     "execution_count": 26,
     "metadata": {},
     "output_type": "execute_result"
    }
   ],
   "source": [
    "# Removing special characters and numbers\n",
    "\n",
    "sentence = re.sub(r'[^a-zA-Z\\s]', \" \", sentence)\n",
    "\n",
    "sentence"
   ]
  },
  {
   "cell_type": "code",
   "execution_count": 28,
   "metadata": {},
   "outputs": [
    {
     "data": {
      "text/plain": [
       "'Let me know if you want further refinements!'"
      ]
     },
     "execution_count": 28,
     "metadata": {},
     "output_type": "execute_result"
    }
   ],
   "source": [
    "# Removing extra spaces\n",
    "sentence = \"Let me   know if you want   further             refinements!\"\n",
    "\n",
    "sentence = re.sub(r' +', \" \", sentence)\n",
    "\n",
    "sentence"
   ]
  },
  {
   "cell_type": "code",
   "execution_count": 30,
   "metadata": {},
   "outputs": [
    {
     "name": "stdout",
     "output_type": "stream",
     "text": [
      "We have lived our entire life in New York City\n"
     ]
    }
   ],
   "source": [
    "import contractions\n",
    "\n",
    "# Extracting Contracions\n",
    "sentence = \"We've lived our entire life in New York City\"\n",
    "\n",
    "sentence = contractions.fix(sentence)\n",
    "\n",
    "print(sentence)"
   ]
  },
  {
   "cell_type": "code",
   "execution_count": 34,
   "metadata": {},
   "outputs": [
    {
     "data": {
      "text/plain": [
       "'The quick, brown fox jumps over 13 lazy dogs!'"
      ]
     },
     "execution_count": 34,
     "metadata": {},
     "output_type": "execute_result"
    }
   ],
   "source": [
    "# Removing HTML tags\n",
    "sentence = \"<p>The <strong>quick</strong>, <em>brown</em> fox jumps over 13 lazy dogs</a>!</p>\"\n",
    "\n",
    "sentence = re.sub(r'<.*?>', \"\", sentence)\n",
    "\n",
    "sentence"
   ]
  },
  {
   "cell_type": "code",
   "execution_count": null,
   "metadata": {},
   "outputs": [],
   "source": [
    "from textblob import TextBlob\n",
    "\n",
    "# Spelling Correction\n",
    "sentence = \"The qick brown fox jumpped over the laziest dogg in the neigborhood, but it coudn't keep running becuase it was completly exausted and didnt have enugh energy to finish its journie.\"\n",
    "\n",
    "textblob = TextBlob(sentence)\n",
    "\n",
    "corrected_text = textblob.correct()\n",
    "\n",
    "print(corrected_text)"
   ]
  },
  {
   "cell_type": "code",
   "execution_count": 49,
   "metadata": {},
   "outputs": [
    {
     "ename": "NameError",
     "evalue": "name 'TextBlob' is not defined",
     "output_type": "error",
     "traceback": [
      "\u001b[1;31m---------------------------------------------------------------------------\u001b[0m",
      "\u001b[1;31mNameError\u001b[0m                                 Traceback (most recent call last)",
      "Cell \u001b[1;32mIn[49], line 8\u001b[0m\n\u001b[0;32m      5\u001b[0m text \u001b[38;5;241m=\u001b[39m re\u001b[38;5;241m.\u001b[39msub(\u001b[38;5;124mr\u001b[39m\u001b[38;5;124m'\u001b[39m\u001b[38;5;124m#[\u001b[39m\u001b[38;5;124m\\\u001b[39m\u001b[38;5;124mw]+\u001b[39m\u001b[38;5;124m'\u001b[39m, \u001b[38;5;124m\"\u001b[39m\u001b[38;5;124m \u001b[39m\u001b[38;5;124m\"\u001b[39m, text)\n\u001b[0;32m      6\u001b[0m text \u001b[38;5;241m=\u001b[39m re\u001b[38;5;241m.\u001b[39msub(\u001b[38;5;124mr\u001b[39m\u001b[38;5;124m'\u001b[39m\u001b[38;5;124m + \u001b[39m\u001b[38;5;124m'\u001b[39m, \u001b[38;5;124m'\u001b[39m\u001b[38;5;124m \u001b[39m\u001b[38;5;124m'\u001b[39m, text)\n\u001b[1;32m----> 8\u001b[0m text \u001b[38;5;241m=\u001b[39m \u001b[43mTextBlob\u001b[49m(text)\n\u001b[0;32m      9\u001b[0m text\u001b[38;5;241m.\u001b[39mcorrect()\n",
      "\u001b[1;31mNameError\u001b[0m: name 'TextBlob' is not defined"
     ]
    }
   ],
   "source": [
    "#Seperate Hash Tag Words\n",
    "\n",
    "text = \"Date Scince is amazzing! #Data #Science\"\n",
    "\n",
    "text = re.sub(r'#[\\w]+', \" \", text)\n",
    "text = re.sub(r' + ', ' ', text)\n",
    "\n",
    "text = TextBlob(text)\n",
    "text.correct()"
   ]
  }
 ],
 "metadata": {
  "kernelspec": {
   "display_name": "Python 3",
   "language": "python",
   "name": "python3"
  },
  "language_info": {
   "codemirror_mode": {
    "name": "ipython",
    "version": 3
   },
   "file_extension": ".py",
   "mimetype": "text/x-python",
   "name": "python",
   "nbconvert_exporter": "python",
   "pygments_lexer": "ipython3",
   "version": "3.12.4"
  }
 },
 "nbformat": 4,
 "nbformat_minor": 2
}
