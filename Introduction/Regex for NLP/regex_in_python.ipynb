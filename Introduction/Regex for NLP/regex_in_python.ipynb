{
 "cells": [
  {
   "cell_type": "code",
   "execution_count": 2,
   "metadata": {},
   "outputs": [],
   "source": [
    "import re"
   ]
  },
  {
   "cell_type": "code",
   "execution_count": 15,
   "metadata": {},
   "outputs": [
    {
     "name": "stdout",
     "output_type": "stream",
     "text": [
      "['my', 'meet', 'the', 'need', \"I'm\", 'best', 'Sorry', 'you', 'think', 'I', 'work', 'at', 'bit', 'coding', 'Nice', 'it', 'love', 'World!', 'meeting', 'late', 'Hello', 'a', 'for', 'do', 'about', 'to']\n"
     ]
    }
   ],
   "source": [
    "from sklearn.feature_extraction.text import CountVectorizer\n",
    "\n",
    "vectorizer = CountVectorizer()\n",
    "\n",
    "text = [\"Hello World!\", \"Nice to meet you\", \"Sorry I'm late a bit for the meeting\", \"I need to think about it\", \"I love coding\", \"I do my best at work\"]\n",
    "\n",
    "words = list(set(\" \".join(text).split(\" \")))\n",
    "\n",
    "print(words)"
   ]
  }
 ],
 "metadata": {
  "kernelspec": {
   "display_name": "Python 3",
   "language": "python",
   "name": "python3"
  },
  "language_info": {
   "codemirror_mode": {
    "name": "ipython",
    "version": 3
   },
   "file_extension": ".py",
   "mimetype": "text/x-python",
   "name": "python",
   "nbconvert_exporter": "python",
   "pygments_lexer": "ipython3",
   "version": "3.12.4"
  }
 },
 "nbformat": 4,
 "nbformat_minor": 2
}
