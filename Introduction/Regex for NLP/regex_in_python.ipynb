{
  "nbformat": 4,
  "nbformat_minor": 0,
  "metadata": {
    "colab": {
      "provenance": []
    },
    "kernelspec": {
      "name": "python3",
      "display_name": "Python 3"
    },
    "language_info": {
      "name": "python"
    }
  },
  "cells": [
    {
      "cell_type": "code",
      "execution_count": 2,
      "metadata": {
        "id": "3XLAyeAR1gVd"
      },
      "outputs": [],
      "source": [
        "import re"
      ]
    },
    {
      "cell_type": "code",
      "source": [
        "text = \"\"\"\n",
        "\n",
        "Order ID: A12B-45C-6789\n",
        "Date: 2024-01-30\n",
        "Price: $123.45\n",
        "Phone: +1 (555) 987-6543\n",
        "Email: test_user123@example.com\n",
        "IP: 192.168.1.1\n",
        "Hex Code: #FF5733\n",
        "Serial: XYZ-9876-ABCD\n",
        "Temperature: -25.7°C\n",
        "Coordinates: 37.7749° N, 122.4194° W\n",
        "Binary: 1011010\n",
        "\n",
        "\"\"\""
      ],
      "metadata": {
        "id": "De4Y5TPZ1ipD"
      },
      "execution_count": 2,
      "outputs": []
    },
    {
      "cell_type": "code",
      "source": [
        "def printing(matches, group=False):\n",
        "  for m in matches:\n",
        "\n",
        "    if group:\n",
        "      print(m.group())\n",
        "    else:\n",
        "      print(m)"
      ],
      "metadata": {
        "id": "wrC_n6CU9foD"
      },
      "execution_count": 31,
      "outputs": []
    },
    {
      "cell_type": "markdown",
      "source": [
        "# Searching for Patterns\n",
        "\n",
        "- **.** - All Character except New Line\n",
        "- **\\d** - Digits (0-9)\n",
        "- **\\D** - Not Digits (0-9)\n",
        "- **\\w** - Word Character (a-z, A-Z, 0-9)\n",
        "- **\\W** - Not Word Character (a-z, A-Z, 0-9)\n",
        "- **\\s** - Spaces (spaces, tab, new line)\n",
        "- **\\S** - Not Spaces\n",
        "- **\\b** - Word Boundary\n",
        "- **\\B** - Not Word Boundary"
      ],
      "metadata": {
        "id": "h01L158Q1mNz"
      }
    },
    {
      "cell_type": "code",
      "source": [
        "pattern = re.compile(r'\\w')\n",
        "\n",
        "matches = list(pattern.finditer(text))\n",
        "\n",
        "print(matches)"
      ],
      "metadata": {
        "colab": {
          "base_uri": "https://localhost:8080/"
        },
        "id": "1pHHLboW13OY",
        "outputId": "38bb3c1a-cc0e-442d-ca0a-d53bdeecc453"
      },
      "execution_count": 9,
      "outputs": [
        {
          "output_type": "stream",
          "name": "stdout",
          "text": [
            "[<re.Match object; span=(4, 5), match='O'>, <re.Match object; span=(5, 6), match='r'>, <re.Match object; span=(6, 7), match='d'>, <re.Match object; span=(7, 8), match='e'>, <re.Match object; span=(8, 9), match='r'>, <re.Match object; span=(10, 11), match='I'>, <re.Match object; span=(11, 12), match='D'>, <re.Match object; span=(14, 15), match='A'>, <re.Match object; span=(15, 16), match='1'>, <re.Match object; span=(16, 17), match='2'>, <re.Match object; span=(17, 18), match='B'>, <re.Match object; span=(19, 20), match='4'>, <re.Match object; span=(20, 21), match='5'>, <re.Match object; span=(21, 22), match='C'>, <re.Match object; span=(23, 24), match='6'>, <re.Match object; span=(24, 25), match='7'>, <re.Match object; span=(25, 26), match='8'>, <re.Match object; span=(26, 27), match='9'>, <re.Match object; span=(30, 31), match='D'>, <re.Match object; span=(31, 32), match='a'>, <re.Match object; span=(32, 33), match='t'>, <re.Match object; span=(33, 34), match='e'>, <re.Match object; span=(36, 37), match='2'>, <re.Match object; span=(37, 38), match='0'>, <re.Match object; span=(38, 39), match='2'>, <re.Match object; span=(39, 40), match='4'>, <re.Match object; span=(41, 42), match='0'>, <re.Match object; span=(42, 43), match='1'>, <re.Match object; span=(44, 45), match='3'>, <re.Match object; span=(45, 46), match='0'>, <re.Match object; span=(49, 50), match='P'>, <re.Match object; span=(50, 51), match='r'>, <re.Match object; span=(51, 52), match='i'>, <re.Match object; span=(52, 53), match='c'>, <re.Match object; span=(53, 54), match='e'>, <re.Match object; span=(57, 58), match='1'>, <re.Match object; span=(58, 59), match='2'>, <re.Match object; span=(59, 60), match='3'>, <re.Match object; span=(61, 62), match='4'>, <re.Match object; span=(62, 63), match='5'>, <re.Match object; span=(66, 67), match='P'>, <re.Match object; span=(67, 68), match='h'>, <re.Match object; span=(68, 69), match='o'>, <re.Match object; span=(69, 70), match='n'>, <re.Match object; span=(70, 71), match='e'>, <re.Match object; span=(74, 75), match='1'>, <re.Match object; span=(77, 78), match='5'>, <re.Match object; span=(78, 79), match='5'>, <re.Match object; span=(79, 80), match='5'>, <re.Match object; span=(82, 83), match='9'>, <re.Match object; span=(83, 84), match='8'>, <re.Match object; span=(84, 85), match='7'>, <re.Match object; span=(86, 87), match='6'>, <re.Match object; span=(87, 88), match='5'>, <re.Match object; span=(88, 89), match='4'>, <re.Match object; span=(89, 90), match='3'>, <re.Match object; span=(93, 94), match='E'>, <re.Match object; span=(94, 95), match='m'>, <re.Match object; span=(95, 96), match='a'>, <re.Match object; span=(96, 97), match='i'>, <re.Match object; span=(97, 98), match='l'>, <re.Match object; span=(100, 101), match='t'>, <re.Match object; span=(101, 102), match='e'>, <re.Match object; span=(102, 103), match='s'>, <re.Match object; span=(103, 104), match='t'>, <re.Match object; span=(104, 105), match='_'>, <re.Match object; span=(105, 106), match='u'>, <re.Match object; span=(106, 107), match='s'>, <re.Match object; span=(107, 108), match='e'>, <re.Match object; span=(108, 109), match='r'>, <re.Match object; span=(109, 110), match='1'>, <re.Match object; span=(110, 111), match='2'>, <re.Match object; span=(111, 112), match='3'>, <re.Match object; span=(113, 114), match='e'>, <re.Match object; span=(114, 115), match='x'>, <re.Match object; span=(115, 116), match='a'>, <re.Match object; span=(116, 117), match='m'>, <re.Match object; span=(117, 118), match='p'>, <re.Match object; span=(118, 119), match='l'>, <re.Match object; span=(119, 120), match='e'>, <re.Match object; span=(121, 122), match='c'>, <re.Match object; span=(122, 123), match='o'>, <re.Match object; span=(123, 124), match='m'>, <re.Match object; span=(127, 128), match='I'>, <re.Match object; span=(128, 129), match='P'>, <re.Match object; span=(131, 132), match='1'>, <re.Match object; span=(132, 133), match='9'>, <re.Match object; span=(133, 134), match='2'>, <re.Match object; span=(135, 136), match='1'>, <re.Match object; span=(136, 137), match='6'>, <re.Match object; span=(137, 138), match='8'>, <re.Match object; span=(139, 140), match='1'>, <re.Match object; span=(141, 142), match='1'>, <re.Match object; span=(145, 146), match='H'>, <re.Match object; span=(146, 147), match='e'>, <re.Match object; span=(147, 148), match='x'>, <re.Match object; span=(149, 150), match='C'>, <re.Match object; span=(150, 151), match='o'>, <re.Match object; span=(151, 152), match='d'>, <re.Match object; span=(152, 153), match='e'>, <re.Match object; span=(156, 157), match='F'>, <re.Match object; span=(157, 158), match='F'>, <re.Match object; span=(158, 159), match='5'>, <re.Match object; span=(159, 160), match='7'>, <re.Match object; span=(160, 161), match='3'>, <re.Match object; span=(161, 162), match='3'>, <re.Match object; span=(165, 166), match='S'>, <re.Match object; span=(166, 167), match='e'>, <re.Match object; span=(167, 168), match='r'>, <re.Match object; span=(168, 169), match='i'>, <re.Match object; span=(169, 170), match='a'>, <re.Match object; span=(170, 171), match='l'>, <re.Match object; span=(173, 174), match='X'>, <re.Match object; span=(174, 175), match='Y'>, <re.Match object; span=(175, 176), match='Z'>, <re.Match object; span=(177, 178), match='9'>, <re.Match object; span=(178, 179), match='8'>, <re.Match object; span=(179, 180), match='7'>, <re.Match object; span=(180, 181), match='6'>, <re.Match object; span=(182, 183), match='A'>, <re.Match object; span=(183, 184), match='B'>, <re.Match object; span=(184, 185), match='C'>, <re.Match object; span=(185, 186), match='D'>, <re.Match object; span=(189, 190), match='T'>, <re.Match object; span=(190, 191), match='e'>, <re.Match object; span=(191, 192), match='m'>, <re.Match object; span=(192, 193), match='p'>, <re.Match object; span=(193, 194), match='e'>, <re.Match object; span=(194, 195), match='r'>, <re.Match object; span=(195, 196), match='a'>, <re.Match object; span=(196, 197), match='t'>, <re.Match object; span=(197, 198), match='u'>, <re.Match object; span=(198, 199), match='r'>, <re.Match object; span=(199, 200), match='e'>, <re.Match object; span=(203, 204), match='2'>, <re.Match object; span=(204, 205), match='5'>, <re.Match object; span=(206, 207), match='7'>, <re.Match object; span=(208, 209), match='C'>, <re.Match object; span=(212, 213), match='C'>, <re.Match object; span=(213, 214), match='o'>, <re.Match object; span=(214, 215), match='o'>, <re.Match object; span=(215, 216), match='r'>, <re.Match object; span=(216, 217), match='d'>, <re.Match object; span=(217, 218), match='i'>, <re.Match object; span=(218, 219), match='n'>, <re.Match object; span=(219, 220), match='a'>, <re.Match object; span=(220, 221), match='t'>, <re.Match object; span=(221, 222), match='e'>, <re.Match object; span=(222, 223), match='s'>, <re.Match object; span=(225, 226), match='3'>, <re.Match object; span=(226, 227), match='7'>, <re.Match object; span=(228, 229), match='7'>, <re.Match object; span=(229, 230), match='7'>, <re.Match object; span=(230, 231), match='4'>, <re.Match object; span=(231, 232), match='9'>, <re.Match object; span=(234, 235), match='N'>, <re.Match object; span=(237, 238), match='1'>, <re.Match object; span=(238, 239), match='2'>, <re.Match object; span=(239, 240), match='2'>, <re.Match object; span=(241, 242), match='4'>, <re.Match object; span=(242, 243), match='1'>, <re.Match object; span=(243, 244), match='9'>, <re.Match object; span=(244, 245), match='4'>, <re.Match object; span=(247, 248), match='W'>, <re.Match object; span=(251, 252), match='B'>, <re.Match object; span=(252, 253), match='i'>, <re.Match object; span=(253, 254), match='n'>, <re.Match object; span=(254, 255), match='a'>, <re.Match object; span=(255, 256), match='r'>, <re.Match object; span=(256, 257), match='y'>, <re.Match object; span=(259, 260), match='1'>, <re.Match object; span=(260, 261), match='0'>, <re.Match object; span=(261, 262), match='1'>, <re.Match object; span=(262, 263), match='1'>, <re.Match object; span=(263, 264), match='0'>, <re.Match object; span=(264, 265), match='1'>, <re.Match object; span=(265, 266), match='0'>]\n"
          ]
        }
      ]
    },
    {
      "cell_type": "code",
      "source": [
        "sentence = \"Hello HaHaHa\"\n",
        "pattern = re.compile(r'\\bHa')\n",
        "\n",
        "matches = list(pattern.finditer(sentence))\n",
        "\n",
        "for m in matches:\n",
        "  print(m)"
      ],
      "metadata": {
        "colab": {
          "base_uri": "https://localhost:8080/"
        },
        "id": "H8eOLisJ3zvB",
        "outputId": "b19f47a6-57d2-4fc4-e151-32c06753692c"
      },
      "execution_count": 10,
      "outputs": [
        {
          "output_type": "stream",
          "name": "stdout",
          "text": [
            "<re.Match object; span=(6, 8), match='Ha'>\n"
          ]
        }
      ]
    },
    {
      "cell_type": "markdown",
      "source": [
        "## Other Patterns\n",
        "\n",
        "- **^** - For Beginning of a String\n",
        "- **$** - For End of a String"
      ],
      "metadata": {
        "id": "EziM_4S_4Pyo"
      }
    },
    {
      "cell_type": "code",
      "source": [
        "text = \"Nice to meet you\"\n",
        "\n",
        "beginning = re.match(r'^Nice', text)\n",
        "end = re.search(r'you$', text)\n",
        "\n",
        "print(beginning)\n",
        "print(end)"
      ],
      "metadata": {
        "colab": {
          "base_uri": "https://localhost:8080/"
        },
        "id": "kk2hw--24c4m",
        "outputId": "5effee5c-6a6b-4f90-c402-5a42b511f836"
      },
      "execution_count": 20,
      "outputs": [
        {
          "output_type": "stream",
          "name": "stdout",
          "text": [
            "<re.Match object; span=(0, 4), match='Nice'>\n",
            "<re.Match object; span=(13, 16), match='you'>\n"
          ]
        }
      ]
    },
    {
      "cell_type": "code",
      "source": [
        "phone_numbers = \"\"\"\n",
        "\n",
        "123-983-1492\n",
        "834.102.1244\n",
        "235*346*6543\n",
        "\n",
        "\"\"\"\n",
        "\n",
        "pattern = re.compile(r'\\d\\d\\d[-.]\\d\\d\\d[-.]\\d\\d\\d\\d')\n",
        "\n",
        "matches = pattern.finditer(phone_numbers)\n",
        "\n",
        "printing(matches)"
      ],
      "metadata": {
        "colab": {
          "base_uri": "https://localhost:8080/"
        },
        "id": "_Va8GaAs5qBJ",
        "outputId": "fe923ddb-1801-4934-afa1-7c94e44bea18"
      },
      "execution_count": 34,
      "outputs": [
        {
          "output_type": "stream",
          "name": "stdout",
          "text": [
            "<re.Match object; span=(2, 14), match='123-983-1492'>\n",
            "<re.Match object; span=(15, 27), match='834.102.1244'>\n"
          ]
        }
      ]
    },
    {
      "cell_type": "code",
      "source": [
        "numbers = \"\"\"\n",
        "\n",
        "+998908723176\n",
        "+79163456789\n",
        "\n",
        "\"\"\"\n",
        "\n",
        "pattern = re.compile(r'[+]998\\d\\d\\d\\d\\d\\d\\d\\d\\d')\n",
        "\n",
        "uzbek_numbers = list(pattern.finditer(numbers))\n",
        "\n",
        "printing(uzbek_numbers)"
      ],
      "metadata": {
        "colab": {
          "base_uri": "https://localhost:8080/"
        },
        "id": "PgdXyd-c68kQ",
        "outputId": "6ffe0033-7f8b-4cff-d192-63074de688e7"
      },
      "execution_count": 35,
      "outputs": [
        {
          "output_type": "stream",
          "name": "stdout",
          "text": [
            "<re.Match object; span=(3, 16), match='+998908723176'>\n"
          ]
        }
      ]
    },
    {
      "cell_type": "markdown",
      "source": [
        "### Nageting\n",
        "\n",
        "- **[ ]** - Characters withing the Brackets\n",
        "- **[^]** - Characters NOT in Brackets"
      ],
      "metadata": {
        "id": "GvVX_eXM9JGE"
      }
    },
    {
      "cell_type": "code",
      "source": [
        "words = \"\"\"\n",
        "\n",
        "cat\n",
        "pat\n",
        "mat\n",
        "bat\n",
        "\n",
        "\"\"\"\n",
        "\n",
        "pattern = re.compile(r'[^c]at')\n",
        "\n",
        "matches = pattern.finditer(words)\n",
        "\n",
        "printing(matches)"
      ],
      "metadata": {
        "colab": {
          "base_uri": "https://localhost:8080/"
        },
        "id": "NOL3rVz59LWn",
        "outputId": "4e21cd4f-2cd6-48f4-a27a-7b2d16967581"
      },
      "execution_count": 5,
      "outputs": [
        {
          "output_type": "stream",
          "name": "stdout",
          "text": [
            "<re.Match object; span=(6, 9), match='pat'>\n",
            "<re.Match object; span=(10, 13), match='mat'>\n",
            "<re.Match object; span=(14, 17), match='bat'>\n"
          ]
        }
      ]
    },
    {
      "cell_type": "markdown",
      "source": [
        "## Quantifiers\n",
        "\n",
        "- **Astirics** - 0 or More\n",
        "- **+**  - 1 or More\n",
        "- {} - Range\n",
        "- ** ? ** - 0 or One"
      ],
      "metadata": {
        "id": "0wTYEVkumS2W"
      }
    },
    {
      "cell_type": "code",
      "source": [
        "numbers = \"\"\"\n",
        "\n",
        "+998908723176\n",
        "+79163456789\n",
        "\n",
        "\"\"\"\n",
        "\n",
        "pattern = re.compile(r'[+]998\\d{9}')\n",
        "\n",
        "uzbek_numbers = list(pattern.finditer(numbers))\n",
        "\n",
        "printing(uzbek_numbers)\n",
        "print(re.search(r'\\+998\\d+', numbers).group())"
      ],
      "metadata": {
        "colab": {
          "base_uri": "https://localhost:8080/"
        },
        "id": "eH48BbWLmlsi",
        "outputId": "5d131484-2b13-4bff-eea5-2e400751a0e9"
      },
      "execution_count": 9,
      "outputs": [
        {
          "output_type": "stream",
          "name": "stdout",
          "text": [
            "<re.Match object; span=(3, 16), match='+998908723176'>\n",
            "+998908723176\n"
          ]
        }
      ]
    },
    {
      "cell_type": "code",
      "source": [
        "names = \"\"\"\n",
        "\n",
        "Mr. Schafer\n",
        "Mr Smith\n",
        "Ms Abel\n",
        "Mrs. Robinson\n",
        "Mr. T\n",
        "\n",
        "\"\"\"\n",
        "\n",
        "pattern = re.compile(r'Mr\\.?\\s[A-Z]\\w+')\n",
        "\n",
        "matchs = pattern.finditer(names)\n",
        "\n",
        "printing(matchs, group=True)"
      ],
      "metadata": {
        "colab": {
          "base_uri": "https://localhost:8080/"
        },
        "id": "pH0B3ULbna85",
        "outputId": "693f8fb7-e1db-4818-8e92-4da6c1c6649a"
      },
      "execution_count": 32,
      "outputs": [
        {
          "output_type": "stream",
          "name": "stdout",
          "text": [
            "Mr. Schafer\n",
            "Mr Smith\n"
          ]
        }
      ]
    }
  ]
}