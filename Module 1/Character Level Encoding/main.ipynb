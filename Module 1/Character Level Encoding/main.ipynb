{
 "cells": [
  {
   "cell_type": "code",
   "execution_count": 3,
   "metadata": {},
   "outputs": [
    {
     "name": "stdout",
     "output_type": "stream",
     "text": [
      "First Citize\n"
     ]
    }
   ],
   "source": [
    "# read the text file data\n",
    "with open(\"input.txt\") as file:\n",
    "    text = file.read()\n",
    "\n",
    "print(text[:12])"
   ]
  },
  {
   "cell_type": "code",
   "execution_count": 4,
   "metadata": {},
   "outputs": [
    {
     "name": "stdout",
     "output_type": "stream",
     "text": [
      "Length of the text dataset:  1115394\n"
     ]
    }
   ],
   "source": [
    "print(\"Length of the text dataset: \",len(text))"
   ]
  },
  {
   "cell_type": "code",
   "execution_count": 11,
   "metadata": {},
   "outputs": [
    {
     "name": "stdout",
     "output_type": "stream",
     "text": [
      "First Citizen:\n",
      "Before we proceed any further, hear me speak.\n",
      "\n",
      "All:\n",
      "Speak, speak.\n",
      "\n",
      "First Citizen:\n",
      "You\n"
     ]
    }
   ],
   "source": [
    "# Looking at 100 words of the text data\n",
    "print(text[:100])"
   ]
  },
  {
   "cell_type": "code",
   "execution_count": 15,
   "metadata": {},
   "outputs": [
    {
     "name": "stdout",
     "output_type": "stream",
     "text": [
      "Total Words Vocabulary:  42197\n",
      "Total Unique Characters Vocabulary:  65\n",
      "All Unique Character: \n",
      " !$&',-.3:;?ABCDEFGHIJKLMNOPQRSTUVWXYZabcdefghijklmnopqrstuvwxyz\n"
     ]
    }
   ],
   "source": [
    "vocab_words = sorted(list(set(text.split(\" \"))))\n",
    "vocab_chars = sorted(list(set(text)))\n",
    "\n",
    "print(\"Total Words Vocabulary: \", len(vocab_words))\n",
    "print(\"Total Unique Characters Vocabulary: \", len(vocab_chars))\n",
    "print(\"All Unique Character:\", \"\".join(vocab_chars))"
   ]
  },
  {
   "cell_type": "markdown",
   "metadata": {},
   "source": [
    "## Tokenization"
   ]
  },
  {
   "cell_type": "code",
   "execution_count": 24,
   "metadata": {},
   "outputs": [
    {
     "name": "stdout",
     "output_type": "stream",
     "text": [
      "[25, 39, 49, 58, 39, 40]\n",
      "Maktab\n"
     ]
    }
   ],
   "source": [
    "stoi = {ch:i for i, ch in enumerate(vocab_chars)}\n",
    "itoi = {i:ch for i, ch in enumerate(vocab_chars)}\n",
    "\n",
    "encode = lambda x: [stoi[c] for c in x]\n",
    "decode = lambda x: \"\".join([itoi[i] for i in x])\n",
    "\n",
    "print(encode(\"Maktab\"))\n",
    "print(decode(encode(\"Maktab\")))"
   ]
  },
  {
   "cell_type": "code",
   "execution_count": 88,
   "metadata": {},
   "outputs": [
    {
     "data": {
      "text/plain": [
       "([80, 2040, 64], 'qalesa')"
      ]
     },
     "execution_count": 88,
     "metadata": {},
     "output_type": "execute_result"
    }
   ],
   "source": [
    "import tiktoken\n",
    "\n",
    "tokenizer = tiktoken.get_encoding(\"gpt2\")\n",
    "\n",
    "tokenizer.encode(\"qalesa\"), tokenizer.decode([80, 2040, 64])"
   ]
  }
 ],
 "metadata": {
  "kernelspec": {
   "display_name": "Python 3",
   "language": "python",
   "name": "python3"
  },
  "language_info": {
   "codemirror_mode": {
    "name": "ipython",
    "version": 3
   },
   "file_extension": ".py",
   "mimetype": "text/x-python",
   "name": "python",
   "nbconvert_exporter": "python",
   "pygments_lexer": "ipython3",
   "version": "3.12.4"
  }
 },
 "nbformat": 4,
 "nbformat_minor": 2
}
